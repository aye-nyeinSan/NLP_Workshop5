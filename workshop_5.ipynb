{
 "cells": [
  {
   "cell_type": "code",
   "execution_count": 20,
   "metadata": {},
   "outputs": [],
   "source": [
    "#installing the required libraries\n",
    "\n",
    "import pandas as pd \n",
    "import numpy as np \n",
    "import matplotlib.pyplot as plt\n",
    "import seaborn as sns\n"
   ]
  },
  {
   "cell_type": "code",
   "execution_count": 21,
   "metadata": {},
   "outputs": [
    {
     "data": {
      "text/html": [
       "<div>\n",
       "<style scoped>\n",
       "    .dataframe tbody tr th:only-of-type {\n",
       "        vertical-align: middle;\n",
       "    }\n",
       "\n",
       "    .dataframe tbody tr th {\n",
       "        vertical-align: top;\n",
       "    }\n",
       "\n",
       "    .dataframe thead th {\n",
       "        text-align: right;\n",
       "    }\n",
       "</style>\n",
       "<table border=\"1\" class=\"dataframe\">\n",
       "  <thead>\n",
       "    <tr style=\"text-align: right;\">\n",
       "      <th></th>\n",
       "      <th>Country</th>\n",
       "      <th>Alpha-2</th>\n",
       "      <th>Alpha-3</th>\n",
       "      <th>Continent</th>\n",
       "      <th>Anthem</th>\n",
       "    </tr>\n",
       "  </thead>\n",
       "  <tbody>\n",
       "    <tr>\n",
       "      <th>0</th>\n",
       "      <td>Albania</td>\n",
       "      <td>AL</td>\n",
       "      <td>ALB</td>\n",
       "      <td>Europe</td>\n",
       "      <td>Around our flag we stand united, With one wish...</td>\n",
       "    </tr>\n",
       "    <tr>\n",
       "      <th>1</th>\n",
       "      <td>Armenia</td>\n",
       "      <td>AM</td>\n",
       "      <td>ARM</td>\n",
       "      <td>Europe</td>\n",
       "      <td>Our Fatherland, free, independent, That has fo...</td>\n",
       "    </tr>\n",
       "    <tr>\n",
       "      <th>2</th>\n",
       "      <td>Austria</td>\n",
       "      <td>AT</td>\n",
       "      <td>AUT</td>\n",
       "      <td>Europe</td>\n",
       "      <td>Land of mountains, land by the river, Land of ...</td>\n",
       "    </tr>\n",
       "    <tr>\n",
       "      <th>3</th>\n",
       "      <td>Azerbaijan</td>\n",
       "      <td>AZ</td>\n",
       "      <td>AZE</td>\n",
       "      <td>Europe</td>\n",
       "      <td>Azerbaijan, Azerbaijan! The glorious Fatherlan...</td>\n",
       "    </tr>\n",
       "    <tr>\n",
       "      <th>4</th>\n",
       "      <td>Belarus</td>\n",
       "      <td>BY</td>\n",
       "      <td>BLR</td>\n",
       "      <td>Europe</td>\n",
       "      <td>We, Belarusians, are peaceful people, Wholehea...</td>\n",
       "    </tr>\n",
       "  </tbody>\n",
       "</table>\n",
       "</div>"
      ],
      "text/plain": [
       "      Country Alpha-2 Alpha-3 Continent  \\\n",
       "0     Albania      AL     ALB    Europe   \n",
       "1     Armenia      AM     ARM    Europe   \n",
       "2     Austria      AT     AUT    Europe   \n",
       "3  Azerbaijan      AZ     AZE    Europe   \n",
       "4     Belarus      BY     BLR    Europe   \n",
       "\n",
       "                                              Anthem  \n",
       "0  Around our flag we stand united, With one wish...  \n",
       "1  Our Fatherland, free, independent, That has fo...  \n",
       "2  Land of mountains, land by the river, Land of ...  \n",
       "3  Azerbaijan, Azerbaijan! The glorious Fatherlan...  \n",
       "4  We, Belarusians, are peaceful people, Wholehea...  "
      ]
     },
     "execution_count": 21,
     "metadata": {},
     "output_type": "execute_result"
    }
   ],
   "source": [
    "#uploading data set \n",
    "df = pd.read_csv('./anthems.csv')\n",
    "df.head()"
   ]
  },
  {
   "cell_type": "code",
   "execution_count": 22,
   "metadata": {},
   "outputs": [
    {
     "name": "stdout",
     "output_type": "stream",
     "text": [
      "<class 'pandas.core.frame.DataFrame'>\n",
      "RangeIndex: 190 entries, 0 to 189\n",
      "Data columns (total 5 columns):\n",
      " #   Column     Non-Null Count  Dtype \n",
      "---  ------     --------------  ----- \n",
      " 0   Country    190 non-null    object\n",
      " 1   Alpha-2    189 non-null    object\n",
      " 2   Alpha-3    190 non-null    object\n",
      " 3   Continent  190 non-null    object\n",
      " 4   Anthem     190 non-null    object\n",
      "dtypes: object(5)\n",
      "memory usage: 7.5+ KB\n"
     ]
    }
   ],
   "source": [
    "df.info()"
   ]
  },
  {
   "cell_type": "markdown",
   "metadata": {},
   "source": [
    "Step 1: Check for Missing value and outlier and plots "
   ]
  },
  {
   "cell_type": "code",
   "execution_count": 23,
   "metadata": {},
   "outputs": [
    {
     "data": {
      "text/plain": [
       "Country      0\n",
       "Alpha-2      1\n",
       "Alpha-3      0\n",
       "Continent    0\n",
       "Anthem       0\n",
       "dtype: int64"
      ]
     },
     "execution_count": 23,
     "metadata": {},
     "output_type": "execute_result"
    }
   ],
   "source": [
    "df.isna().sum()"
   ]
  },
  {
   "cell_type": "code",
   "execution_count": 24,
   "metadata": {},
   "outputs": [
    {
     "data": {
      "text/html": [
       "<div>\n",
       "<style scoped>\n",
       "    .dataframe tbody tr th:only-of-type {\n",
       "        vertical-align: middle;\n",
       "    }\n",
       "\n",
       "    .dataframe tbody tr th {\n",
       "        vertical-align: top;\n",
       "    }\n",
       "\n",
       "    .dataframe thead th {\n",
       "        text-align: right;\n",
       "    }\n",
       "</style>\n",
       "<table border=\"1\" class=\"dataframe\">\n",
       "  <thead>\n",
       "    <tr style=\"text-align: right;\">\n",
       "      <th></th>\n",
       "      <th>Country</th>\n",
       "      <th>Alpha-2</th>\n",
       "      <th>Alpha-3</th>\n",
       "      <th>Continent</th>\n",
       "      <th>Anthem</th>\n",
       "    </tr>\n",
       "  </thead>\n",
       "  <tbody>\n",
       "    <tr>\n",
       "      <th>168</th>\n",
       "      <td>Namibia</td>\n",
       "      <td>NaN</td>\n",
       "      <td>NAM</td>\n",
       "      <td>Africa</td>\n",
       "      <td>Namibia land of the brave Freedom fight we he ...</td>\n",
       "    </tr>\n",
       "  </tbody>\n",
       "</table>\n",
       "</div>"
      ],
      "text/plain": [
       "     Country Alpha-2 Alpha-3 Continent  \\\n",
       "168  Namibia     NaN     NAM    Africa   \n",
       "\n",
       "                                                Anthem  \n",
       "168  Namibia land of the brave Freedom fight we he ...  "
      ]
     },
     "execution_count": 24,
     "metadata": {},
     "output_type": "execute_result"
    }
   ],
   "source": [
    "df[df.isnull().any(axis=1)]"
   ]
  },
  {
   "cell_type": "markdown",
   "metadata": {},
   "source": [
    "After checking the data , we can see the missing values in the data set in \"Alpha-2\" column. The column \"Alpha-2\" is the 2-digits country code  based on the ISO 3166-1 standard. I will fill the first 2-digit of the country."
   ]
  },
  {
   "cell_type": "code",
   "execution_count": 25,
   "metadata": {},
   "outputs": [
    {
     "data": {
      "text/plain": [
       "Country      0\n",
       "Alpha-2      0\n",
       "Alpha-3      0\n",
       "Continent    0\n",
       "Anthem       0\n",
       "dtype: int64"
      ]
     },
     "execution_count": 25,
     "metadata": {},
     "output_type": "execute_result"
    }
   ],
   "source": [
    "df= df.fillna('NA') #country \"Namibia\"\n",
    "df.isnull().sum()"
   ]
  },
  {
   "cell_type": "code",
   "execution_count": 26,
   "metadata": {},
   "outputs": [
    {
     "name": "stderr",
     "output_type": "stream",
     "text": [
      "[nltk_data] Downloading package stopwords to\n",
      "[nltk_data]     /Users/ayenyeinsan/nltk_data...\n",
      "[nltk_data]   Package stopwords is already up-to-date!\n",
      "[nltk_data] Downloading package punkt to\n",
      "[nltk_data]     /Users/ayenyeinsan/nltk_data...\n",
      "[nltk_data]   Package punkt is already up-to-date!\n"
     ]
    },
    {
     "data": {
      "text/html": [
       "<div>\n",
       "<style scoped>\n",
       "    .dataframe tbody tr th:only-of-type {\n",
       "        vertical-align: middle;\n",
       "    }\n",
       "\n",
       "    .dataframe tbody tr th {\n",
       "        vertical-align: top;\n",
       "    }\n",
       "\n",
       "    .dataframe thead th {\n",
       "        text-align: right;\n",
       "    }\n",
       "</style>\n",
       "<table border=\"1\" class=\"dataframe\">\n",
       "  <thead>\n",
       "    <tr style=\"text-align: right;\">\n",
       "      <th></th>\n",
       "      <th>Country</th>\n",
       "      <th>Alpha-2</th>\n",
       "      <th>Alpha-3</th>\n",
       "      <th>Continent</th>\n",
       "      <th>Anthem</th>\n",
       "      <th>processed_text</th>\n",
       "      <th>word_count</th>\n",
       "      <th>unique_words_count</th>\n",
       "      <th>avg_word_count</th>\n",
       "    </tr>\n",
       "  </thead>\n",
       "  <tbody>\n",
       "    <tr>\n",
       "      <th>0</th>\n",
       "      <td>Albania</td>\n",
       "      <td>AL</td>\n",
       "      <td>ALB</td>\n",
       "      <td>Europe</td>\n",
       "      <td>Around our flag we stand united, With one wish...</td>\n",
       "      <td>[around, flag, stand, united, one, wish, one, ...</td>\n",
       "      <td>205</td>\n",
       "      <td>60</td>\n",
       "      <td>2.902439</td>\n",
       "    </tr>\n",
       "    <tr>\n",
       "      <th>1</th>\n",
       "      <td>Armenia</td>\n",
       "      <td>AM</td>\n",
       "      <td>ARM</td>\n",
       "      <td>Europe</td>\n",
       "      <td>Our Fatherland, free, independent, That has fo...</td>\n",
       "      <td>[fatherland, free, independent, centuries, liv...</td>\n",
       "      <td>118</td>\n",
       "      <td>38</td>\n",
       "      <td>3.000000</td>\n",
       "    </tr>\n",
       "    <tr>\n",
       "      <th>2</th>\n",
       "      <td>Austria</td>\n",
       "      <td>AT</td>\n",
       "      <td>AUT</td>\n",
       "      <td>Europe</td>\n",
       "      <td>Land of mountains, land by the river, Land of ...</td>\n",
       "      <td>[land, mountains, land, river, land, fields, l...</td>\n",
       "      <td>196</td>\n",
       "      <td>61</td>\n",
       "      <td>2.918367</td>\n",
       "    </tr>\n",
       "    <tr>\n",
       "      <th>3</th>\n",
       "      <td>Azerbaijan</td>\n",
       "      <td>AZ</td>\n",
       "      <td>AZE</td>\n",
       "      <td>Europe</td>\n",
       "      <td>Azerbaijan, Azerbaijan! The glorious Fatherlan...</td>\n",
       "      <td>[azerbaijan, azerbaijan, glorious, fatherland,...</td>\n",
       "      <td>238</td>\n",
       "      <td>52</td>\n",
       "      <td>2.949580</td>\n",
       "    </tr>\n",
       "    <tr>\n",
       "      <th>4</th>\n",
       "      <td>Belarus</td>\n",
       "      <td>BY</td>\n",
       "      <td>BLR</td>\n",
       "      <td>Europe</td>\n",
       "      <td>We, Belarusians, are peaceful people, Wholehea...</td>\n",
       "      <td>[belarusians, peaceful, people, wholeheartedly...</td>\n",
       "      <td>223</td>\n",
       "      <td>56</td>\n",
       "      <td>3.210762</td>\n",
       "    </tr>\n",
       "  </tbody>\n",
       "</table>\n",
       "</div>"
      ],
      "text/plain": [
       "      Country Alpha-2 Alpha-3 Continent  \\\n",
       "0     Albania      AL     ALB    Europe   \n",
       "1     Armenia      AM     ARM    Europe   \n",
       "2     Austria      AT     AUT    Europe   \n",
       "3  Azerbaijan      AZ     AZE    Europe   \n",
       "4     Belarus      BY     BLR    Europe   \n",
       "\n",
       "                                              Anthem  \\\n",
       "0  Around our flag we stand united, With one wish...   \n",
       "1  Our Fatherland, free, independent, That has fo...   \n",
       "2  Land of mountains, land by the river, Land of ...   \n",
       "3  Azerbaijan, Azerbaijan! The glorious Fatherlan...   \n",
       "4  We, Belarusians, are peaceful people, Wholehea...   \n",
       "\n",
       "                                      processed_text  word_count  \\\n",
       "0  [around, flag, stand, united, one, wish, one, ...         205   \n",
       "1  [fatherland, free, independent, centuries, liv...         118   \n",
       "2  [land, mountains, land, river, land, fields, l...         196   \n",
       "3  [azerbaijan, azerbaijan, glorious, fatherland,...         238   \n",
       "4  [belarusians, peaceful, people, wholeheartedly...         223   \n",
       "\n",
       "   unique_words_count  avg_word_count  \n",
       "0                  60        2.902439  \n",
       "1                  38        3.000000  \n",
       "2                  61        2.918367  \n",
       "3                  52        2.949580  \n",
       "4                  56        3.210762  "
      ]
     },
     "execution_count": 26,
     "metadata": {},
     "output_type": "execute_result"
    }
   ],
   "source": [
    "#data cleaning and preprocessing\n",
    "\n",
    "import nltk\n",
    "from nltk.corpus import stopwords\n",
    "from nltk.tokenize import word_tokenize\n",
    "\n",
    "nltk.download('stopwords')\n",
    "nltk.download('punkt')\n",
    "\n",
    "stop_words = set(stopwords.words('english'))\n",
    "\n",
    "def remove_stopwords(text):\n",
    "    word_tokens = word_tokenize(text.lower())\n",
    "    filtered_text = [word for word in word_tokens if word.isalnum() and word.lower() not in stop_words]\n",
    "    return filtered_text\n",
    "\n",
    "def text_analysis(text):\n",
    "    word_tokens = word_tokenize(text)\n",
    "    return {\n",
    "        'word_count':len(word_tokens),\n",
    "        'unique_words_count': len(set(word_tokens)),\n",
    "        'avg_word_count':np.mean([len(word) for word in word_tokens])\n",
    "    }\n",
    "\n",
    "df['processed_text'] = df['Anthem'].apply(remove_stopwords)\n",
    "df['word_count']= df['processed_text'].apply(lambda x: len(word_tokenize(str(x))))\n",
    "df['unique_words_count']= df['processed_text'].apply(lambda x: len(set(word_tokenize(str(x)))))\n",
    "df['avg_word_count']= df['processed_text'].apply(lambda x : np.mean([len(word) for word in word_tokenize(str(x))]))\n",
    "df.head()\n",
    "\n",
    "\n",
    "\n",
    "\n",
    "\n",
    "\n"
   ]
  },
  {
   "cell_type": "markdown",
   "metadata": {},
   "source": [
    "### EDA (Exploratory Data Analysis)"
   ]
  },
  {
   "cell_type": "code",
   "execution_count": 27,
   "metadata": {},
   "outputs": [
    {
     "data": {
      "text/plain": [
       "Text(0.5, 0, 'Word Count')"
      ]
     },
     "execution_count": 27,
     "metadata": {},
     "output_type": "execute_result"
    },
    {
     "data": {
      "image/png": "[encoded data removed]",
      "text/plain": [
       "<Figure size 1000x600 with 1 Axes>"
      ]
     },
     "metadata": {},
     "output_type": "display_data"
    }
   ],
   "source": [
    "#plotting the data\n",
    "\n",
    "plt.figure(figsize=(10,6))\n",
    "sns.histplot(df['word_count'], bins=30, color='red')\n",
    "plt.xlabel('Word Count')"
   ]
  },
  {
   "cell_type": "markdown",
   "metadata": {},
   "source": [
    "This histogram represents the distribution of word counts in the dataset.\n",
    "\n",
    " From this graph, the highest frequency falls most of the anthems in range 100 to 200 while there are some anthems with 400 words. "
   ]
  },
  {
   "cell_type": "code",
   "execution_count": 28,
   "metadata": {},
   "outputs": [
    {
     "data": {
      "text/plain": [
       "<Axes: xlabel='unique_words_count', ylabel='Count'>"
      ]
     },
     "execution_count": 28,
     "metadata": {},
     "output_type": "execute_result"
    },
    {
     "data": {
      "image/png": "[encoded data removed]",
      "text/plain": [
       "<Figure size 1000x600 with 1 Axes>"
      ]
     },
     "metadata": {},
     "output_type": "display_data"
    }
   ],
   "source": [
    "plt.figure(figsize=(10,6))\n",
    "sns.histplot(df['unique_words_count'], bins=30, color='blue')\n",
    "\n"
   ]
  },
  {
   "cell_type": "markdown",
   "metadata": {},
   "source": [
    "This Histogram shows the distribution of unique words.\n",
    "\n",
    " From this graph, I analyzed most of the anthems have the unique_words range in 25 to 75 .\n",
    " \n",
    "Some anthems have a high number of unique_words , suggesting they contain diverse vocabulary. "
   ]
  },
  {
   "cell_type": "code",
   "execution_count": 29,
   "metadata": {},
   "outputs": [
    {
     "data": {
      "text/plain": [
       "<Axes: xlabel='avg_word_count', ylabel='Count'>"
      ]
     },
     "execution_count": 29,
     "metadata": {},
     "output_type": "execute_result"
    },
    {
     "data": {
      "image/png": "[encoded data removed]",
      "text/plain": [
       "<Figure size 1000x600 with 1 Axes>"
      ]
     },
     "metadata": {},
     "output_type": "display_data"
    }
   ],
   "source": [
    "plt.figure(figsize=(10,6))\n",
    "sns.histplot(df['avg_word_count'], bins=30, color='green')"
   ]
  },
  {
   "cell_type": "markdown",
   "metadata": {},
   "source": [
    "This histogram shows the average word length in the dataset.\n",
    "\n",
    "The distribution is fairly normal, with most anthems having an average word length between 2.7 and 3.0 characters.\n",
    "\n",
    "There are no extreme outliers, indicating that most words in anthems are relatively short."
   ]
  },
  {
   "cell_type": "code",
   "execution_count": 30,
   "metadata": {},
   "outputs": [
    {
     "data": {
      "image/png": "[encoded data removed]",
      "text/plain": [
       "<Figure size 1000x600 with 1 Axes>"
      ]
     },
     "metadata": {},
     "output_type": "display_data"
    }
   ],
   "source": [
    "#word count by continent\n",
    "plt.figure(figsize=(10,6))\n",
    "sns.boxplot(x=df['Continent'], y=df['word_count'])\n",
    "plt.xticks(rotation=45)\n",
    "plt.title(\"Word Count by Continent\")\n",
    "plt.show()"
   ]
  },
  {
   "cell_type": "markdown",
   "metadata": {},
   "source": [
    "This plt shows the variation of words count across different continent.\n",
    "\n",
    "Europe and Oceania have the shortest anthems with little variation.\n",
    "\n",
    "South America has the longest anthems with highest median word counts.\n",
    "\n",
    "North America has also long anthems with median 200 and data points range to 600, assuming mix of short and long anthems.\n",
    "\n",
    "Oceania is the shorest anthems in overall , having a few or no extreme outlier.\n",
    "\n",
    "Asia has the median around 150 with the high oultier above 400, meaning some of it are quite long.\n",
    "\n",
    "Africa has similar distribution with Asia but afew outlier above 400, meaning that anthems of africa are moderate in length.\n"
   ]
  },
  {
   "cell_type": "code",
   "execution_count": 40,
   "metadata": {},
   "outputs": [],
   "source": [
    "from collections import Counter\n",
    "#Outlier detection Using IQR\n",
    "\n",
    "def Outlier_detection(data, feature):\n",
    "    Q1 = np.percentile(data[feature], 25)\n",
    "    Q3 = np.percentile(data[feature], 75)\n",
    "    IQR = Q3 - Q1\n",
    "    lower_bound = Q1 - 1.5*IQR\n",
    "    upper_bound = Q3 + 1.5*IQR\n",
    "    return data[(data[feature] < lower_bound) | (data[feature] > upper_bound)]\n",
    "\n",
    "\n"
   ]
  },
  {
   "cell_type": "code",
   "execution_count": 42,
   "metadata": {},
   "outputs": [
    {
     "name": "stdout",
     "output_type": "stream",
     "text": [
      "Outliers in unique words count: \n",
      "\n",
      "                      Country  unique_words_count\n",
      "13                    Finland                 129\n",
      "14                     France                 158\n",
      "18                    Hungary                 151\n",
      "44                  Argentina                 206\n",
      "47                      Chile                 138\n",
      "48                   Colombia                 194\n",
      "49                    Ecuador                 159\n",
      "51                   Paraguay                 180\n",
      "52                       Peru                 161\n",
      "56   United States of America                 124\n",
      "59                  Guatemala                 124\n",
      "62         Dominican Republic                 127\n",
      "63                   Honduras                 183\n",
      "64                El Salvador                 126\n",
      "92                 Bangladesh                 119\n",
      "128                    Turkey                 194\n",
      "138              Burkina Faso                 138\n"
     ]
    }
   ],
   "source": [
    "#outliers in unique words count\n",
    "unique_words_count_outliers = Outlier_detection(df, 'unique_words_count')\n",
    "print(\"Outliers in unique words count: \\n\")\n",
    "print(unique_words_count_outliers[['Country', 'unique_words_count']])"
   ]
  },
  {
   "cell_type": "code",
   "execution_count": 43,
   "metadata": {},
   "outputs": [
    {
     "name": "stdout",
     "output_type": "stream",
     "text": [
      "Outliers in word count: \n",
      "\n",
      "                      Country  word_count\n",
      "13                    Finland         487\n",
      "14                     France         577\n",
      "18                    Hungary         541\n",
      "44                  Argentina         733\n",
      "45                    Bolivia         632\n",
      "46                     Brazil         499\n",
      "47                      Chile         499\n",
      "48                   Colombia         619\n",
      "49                    Ecuador         583\n",
      "51                   Paraguay         628\n",
      "52                       Peru         877\n",
      "56   United States of America         454\n",
      "59                  Guatemala         484\n",
      "61                      Haiti         451\n",
      "62         Dominican Republic         463\n",
      "63                   Honduras         625\n",
      "128                    Turkey         763\n",
      "138              Burkina Faso         469\n"
     ]
    }
   ],
   "source": [
    "\n",
    "#outliers in word count\n",
    "word_count_outliers = Outlier_detection(df, 'word_count')\n",
    "print(\"Outliers in word count: \\n\")\n",
    "print(word_count_outliers[['Country', 'word_count']])"
   ]
  },
  {
   "cell_type": "code",
   "execution_count": 41,
   "metadata": {},
   "outputs": [
    {
     "name": "stdout",
     "output_type": "stream",
     "text": [
      "Most common 10 words in the dataset: \n",
      "\n"
     ]
    },
    {
     "data": {
      "text/plain": [
       "{'us': 249,\n",
       " 'land': 204,\n",
       " 'may': 153,\n",
       " 'let': 135,\n",
       " 'god': 133,\n",
       " 'people': 113,\n",
       " 'thy': 105,\n",
       " 'free': 104,\n",
       " 'one': 96,\n",
       " 'shall': 93}"
      ]
     },
     "execution_count": 41,
     "metadata": {},
     "output_type": "execute_result"
    }
   ],
   "source": [
    "#outliers in average word count\n",
    "common_words = Counter(word for words in df['processed_text'] for word in words ).most_common(10)\n",
    "print(\"Most common 10 words in the dataset: \\n\")\n",
    "common_words = dict(common_words)\n",
    "common_words"
   ]
  },
  {
   "cell_type": "code",
   "execution_count": null,
   "metadata": {},
   "outputs": [],
   "source": []
  }
 ],
 "metadata": {
  "kernelspec": {
   "display_name": "Python 3",
   "language": "python",
   "name": "python3"
  },
  "language_info": {
   "codemirror_mode": {
    "name": "ipython",
    "version": 3
   },
   "file_extension": ".py",
   "mimetype": "text/x-python",
   "name": "python",
   "nbconvert_exporter": "python",
   "pygments_lexer": "ipython3",
   "version": "3.9.6"
  }
 },
 "nbformat": 4,
 "nbformat_minor": 2
}
